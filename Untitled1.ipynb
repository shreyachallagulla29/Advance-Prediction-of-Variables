{
 "cells": [
  {
   "cell_type": "code",
   "execution_count": 1,
   "id": "f764b22a",
   "metadata": {},
   "outputs": [
    {
     "name": "stdout",
     "output_type": "stream",
     "text": [
      "   Year  MSHA ID                       Mine_Name  Production  Labor_Hours  \\\n",
      "0  2013   103381            Tacoa Highwall Miner       56004        22392   \n",
      "1  2013   103404                Reid School Mine       28807         8447   \n",
      "2  2013   100759  North River #1 Underground Min     1440115       474784   \n",
      "3  2013   103246                      Bear Creek       87587        29193   \n",
      "4  2013   103451                     Knight Mine      147499        46393   \n",
      "\n",
      "   Unnamed: 5  \\\n",
      "0         NaN   \n",
      "1         NaN   \n",
      "2         NaN   \n",
      "3         NaN   \n",
      "4         NaN   \n",
      "\n",
      "   Write a  Pandas program to import given  excel data (coalpublic2013.xlsx ) into a Pandas dataframe  \n",
      "0                                                NaN                                                   \n",
      "1                                                NaN                                                   \n",
      "2                                                NaN                                                   \n",
      "3                                                NaN                                                   \n",
      "4                                                NaN                                                   \n"
     ]
    }
   ],
   "source": [
    "import pandas as pd\n",
    "file_path = 'PythonTasks 7.xlsx'\n",
    "df = pd.read_excel(file_path, sheet_name = 'Task1')\n",
    "print(df.head())"
   ]
  },
  {
   "cell_type": "code",
   "execution_count": 2,
   "id": "da70e2fe",
   "metadata": {},
   "outputs": [
    {
     "name": "stdout",
     "output_type": "stream",
     "text": [
      "   2013  102976 Piney Woods Preparation Plant        0    23193  Unnamed: 5  \\\n",
      "0  2013  103380                        Calera        0    12621         NaN   \n",
      "1  2013  103380                        Calera        0     1402         NaN   \n",
      "2  2013  103422               Clark No 1 Mine   122727   140250         NaN   \n",
      "3  2013  103467           Helena Surface Mine    59664    30539         NaN   \n",
      "4  2013  101247                     No 4 Mine  2622528  1551141         NaN   \n",
      "\n",
      "   Unnamed: 6  Unnamed: 7  \n",
      "0         NaN         NaN  \n",
      "1         NaN         NaN  \n",
      "2         NaN         NaN  \n",
      "3         NaN         NaN  \n",
      "4         NaN         NaN  \n"
     ]
    }
   ],
   "source": [
    "import pandas as pd\n",
    "file_path = 'PythonTasks 7.xlsx'\n",
    "df = pd.read_excel(file_path, sheet_name = 'Task2', skiprows = 20)\n",
    "print(df.head())"
   ]
  },
  {
   "cell_type": "code",
   "execution_count": 5,
   "id": "9b11d485",
   "metadata": {},
   "outputs": [
    {
     "name": "stdout",
     "output_type": "stream",
     "text": [
      "28854323\n",
      "577086.46\n",
      "7602722\n",
      "0\n"
     ]
    }
   ],
   "source": [
    "import pandas as pd\n",
    "file_path = 'PythonTasks 7.xlsx'\n",
    "df = pd.read_excel(file_path, sheet_name = 'Task 3')\n",
    "column_name = 'Production'\n",
    "column_sum = df[column_name].sum()\n",
    "column_mean = df[column_name].mean()\n",
    "column_max = df[column_name].max()\n",
    "column_min = df[column_name].min()\n",
    "print(column_sum)\n",
    "print(column_mean)\n",
    "print(column_max)\n",
    "print(column_min)"
   ]
  },
  {
   "cell_type": "code",
   "execution_count": null,
   "id": "e8a6bfb4",
   "metadata": {},
   "outputs": [],
   "source": []
  }
 ],
 "metadata": {
  "kernelspec": {
   "display_name": "Python 3 (ipykernel)",
   "language": "python",
   "name": "python3"
  },
  "language_info": {
   "codemirror_mode": {
    "name": "ipython",
    "version": 3
   },
   "file_extension": ".py",
   "mimetype": "text/x-python",
   "name": "python",
   "nbconvert_exporter": "python",
   "pygments_lexer": "ipython3",
   "version": "3.10.6"
  }
 },
 "nbformat": 4,
 "nbformat_minor": 5
}
