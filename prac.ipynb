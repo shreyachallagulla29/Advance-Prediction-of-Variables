{
 "cells": [
  {
   "cell_type": "code",
   "execution_count": 3,
   "id": "aee63140",
   "metadata": {},
   "outputs": [
    {
     "name": "stdout",
     "output_type": "stream",
     "text": [
      "Enter the array of numbers: 3 2 4\n",
      "Enter the target integer: 6\n",
      "[1, 2]\n"
     ]
    }
   ],
   "source": [
    "nums = list(map(int, input(\"Enter the array of numbers: \").split()))\n",
    "target = int(input(\"Enter the target integer: \"))\n",
    "for i in range(len(nums)):\n",
    "    for j in range(i+1,len(nums)):\n",
    "        if nums[i]+nums[j] == target:\n",
    "            print([i,j])\n"
   ]
  },
  {
   "cell_type": "code",
   "execution_count": 12,
   "id": "581df82d",
   "metadata": {},
   "outputs": [
    {
     "name": "stdout",
     "output_type": "stream",
     "text": [
      "Enter the number for palindrome check: 1133311\n",
      "True\n"
     ]
    }
   ],
   "source": [
    "n = int(input(\"Enter the number for palindrome check: \"))\n",
    "original = n\n",
    "count = 0\n",
    "while n>0:\n",
    "    rem = n%10\n",
    "    count = count*10 + rem\n",
    "    n = n//10\n",
    "if count == original:\n",
    "    print(True)\n",
    "else:\n",
    "    print(False)\n",
    "\n",
    "    "
   ]
  },
  {
   "cell_type": "code",
   "execution_count": null,
   "id": "69eb1f36",
   "metadata": {},
   "outputs": [],
   "source": []
  }
 ],
 "metadata": {
  "kernelspec": {
   "display_name": "Python 3 (ipykernel)",
   "language": "python",
   "name": "python3"
  },
  "language_info": {
   "codemirror_mode": {
    "name": "ipython",
    "version": 3
   },
   "file_extension": ".py",
   "mimetype": "text/x-python",
   "name": "python",
   "nbconvert_exporter": "python",
   "pygments_lexer": "ipython3",
   "version": "3.10.6"
  }
 },
 "nbformat": 4,
 "nbformat_minor": 5
}
